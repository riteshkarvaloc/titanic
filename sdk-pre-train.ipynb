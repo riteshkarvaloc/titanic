{
 "cells": [
  {
   "cell_type": "markdown",
   "metadata": {},
   "source": [
    "## Installing DKube SDK"
   ]
  },
  {
   "cell_type": "code",
   "execution_count": 1,
   "metadata": {},
   "outputs": [
    {
     "name": "stdout",
     "output_type": "stream",
     "text": [
      "  Running command git clone -q https://github.com/oneconvergence/dkube.git /tmp/pip-req-build-nxouzs_o\n",
      "\u001b[33mWARNING: You are using pip version 19.2.3, however version 20.3.3 is available.\n",
      "You should consider upgrading via the 'pip install --upgrade pip' command.\u001b[0m\n"
     ]
    }
   ],
   "source": [
    "import sys\n",
    "!{sys.executable} -m pip install git+https://github.com/oneconvergence/dkube.git@2.2-dev --upgrade --no-cache-dir > /dev/null"
   ]
  },
  {
   "cell_type": "markdown",
   "metadata": {},
   "source": [
    "# Importing DKube SDK"
   ]
  },
  {
   "cell_type": "code",
   "execution_count": 2,
   "metadata": {},
   "outputs": [],
   "source": [
    "from dkube.sdk import *"
   ]
  },
  {
   "cell_type": "markdown",
   "metadata": {},
   "source": [
    "# Input and output parameters for the run"
   ]
  },
  {
   "cell_type": "code",
   "execution_count": 3,
   "metadata": {},
   "outputs": [],
   "source": [
    "user = os.getenv('USERNAME')\n",
    "authToken = os.getenv('DKUBE_USER_ACCESS_TOKEN')\n",
    "project_name = \"titanic\"\n",
    "ptrain_dataset = 'titanic-train'\n",
    "ptest_dataset = 'titanic-test'\n",
    "dataset_mount_points = [\"/opt/dkube/input/train\", \"/opt/dkube/input/test\"]\n",
    "ptrain_out_path = \"/opt/dkube/output/train\"\n",
    "ptest_out_path = \"/opt/dkube/output/test\"\n",
    "train_fs = \"titanic-train-fs\"\n",
    "test_fs = \"titanic-test-fs\"\n",
    "model_name = \"titanic\"\n",
    "framework = \"scikit_v0.2.2\"\n",
    "image = \"docker.io/ocdr/dkube-datascience-tf-cpu:fs-v2.0.0\"\n",
    "preprocess_script = f\"python preprocessing.py --train_fs {train_fs} --test_fs {test_fs}\"\n",
    "training_script = \"python training.py\""
   ]
  },
  {
   "cell_type": "markdown",
   "metadata": {},
   "source": [
    "# DKube client handle"
   ]
  },
  {
   "cell_type": "code",
   "execution_count": 4,
   "metadata": {},
   "outputs": [],
   "source": [
    "api = DkubeApi(token=authToken)"
   ]
  },
  {
   "cell_type": "markdown",
   "metadata": {},
   "source": [
    "# Updating preprocessing run details"
   ]
  },
  {
   "cell_type": "code",
   "execution_count": 5,
   "metadata": {},
   "outputs": [],
   "source": [
    "preprocessing_name= generate(project_name)\n",
    "preprocessing = DkubePreprocessing(user, name=preprocessing_name, description='triggered from dkube sdk')\n",
    "preprocessing.update_container(image_url=image)\n",
    "preprocessing.update_startupscript(preprocess_script)\n",
    "preprocessing.add_project(project_name)\n",
    "preprocessing.add_input_dataset(ptrain_dataset, mountpath=dataset_mount_points[0])\n",
    "preprocessing.add_input_dataset(ptest_dataset, mountpath=dataset_mount_points[1])\n",
    "preprocessing.add_output_featureset(train_fs, mountpath=ptrain_out_path)\n",
    "preprocessing.add_output_featureset(test_fs, mountpath=ptest_out_path)"
   ]
  },
  {
   "cell_type": "markdown",
   "metadata": {},
   "source": [
    "# Creating preprocessing run"
   ]
  },
  {
   "cell_type": "code",
   "execution_count": 6,
   "metadata": {},
   "outputs": [
    {
     "name": "stdout",
     "output_type": "stream",
     "text": [
      "run titanic7-8593 - waiting for completion, current state STARTING\n",
      "run titanic7-8593 - waiting for completion, current state RUNNING\n",
      "run titanic7-8593 - completed with state COMPLETE and reason Reason: Completed; Exit code: 0\n"
     ]
    }
   ],
   "source": [
    "# Skip if preprocessing is not required\n",
    "api.create_preprocessing_run(preprocessing)"
   ]
  },
  {
   "cell_type": "markdown",
   "metadata": {},
   "source": [
    "# Updating training run details"
   ]
  },
  {
   "cell_type": "code",
   "execution_count": 7,
   "metadata": {},
   "outputs": [],
   "source": [
    "training_name = generate(project_name)\n",
    "training = DkubeTraining(user, name = training_name, description='triggered from dkube sdk')\n",
    "training.update_container(framework = framework, image_url=image)\n",
    "training.update_startupscript(training_script)\n",
    "training.add_project(project_name)\n",
    "training.add_input_featureset(train_fs, mountpath=\"/titanic-train\")\n",
    "training.add_input_featureset(test_fs, mountpath=\"/titanic-test\")\n",
    "training.add_output_model(model_name, mountpath=\"/model\")"
   ]
  },
  {
   "cell_type": "markdown",
   "metadata": {},
   "source": [
    "# Creating training run"
   ]
  },
  {
   "cell_type": "code",
   "execution_count": 8,
   "metadata": {},
   "outputs": [
    {
     "name": "stdout",
     "output_type": "stream",
     "text": [
      "run titanic7-8204 - waiting for completion, current state STARTING\n",
      "run titanic7-8204 - waiting for completion, current state TRAINING\n",
      "run titanic7-8204 - waiting for completion, current state TRAINING\n",
      "run titanic7-8204 - completed with state COMPLETE and reason Succeeded: TFJob d3-tf-80e3e219-b856-4f89-b306-cb0353d55c6f successfully completed.\n"
     ]
    }
   ],
   "source": [
    "api.create_training_run(training)"
   ]
  }
 ],
 "metadata": {
  "kernelspec": {
   "display_name": "Python 3",
   "language": "python",
   "name": "python3"
  },
  "language_info": {
   "codemirror_mode": {
    "name": "ipython",
    "version": 3
   },
   "file_extension": ".py",
   "mimetype": "text/x-python",
   "name": "python",
   "nbconvert_exporter": "python",
   "pygments_lexer": "ipython3",
   "version": "3.6.8"
  }
 },
 "nbformat": 4,
 "nbformat_minor": 4
}
