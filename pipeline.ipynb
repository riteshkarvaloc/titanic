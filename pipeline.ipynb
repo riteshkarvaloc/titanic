{
 "cells": [
  {
   "cell_type": "code",
   "execution_count": null,
   "metadata": {},
   "outputs": [],
   "source": [
    "import sys\n",
    "!{sys.executable} -m pip install kfp >/dev/null"
   ]
  },
  {
   "cell_type": "code",
   "execution_count": null,
   "metadata": {},
   "outputs": [],
   "source": [
    "import os, json\n",
    "import kfp\n",
    "import kfp.compiler as compiler"
   ]
  },
  {
   "cell_type": "code",
   "execution_count": null,
   "metadata": {},
   "outputs": [],
   "source": [
    "existing_token = os.getenv(\"DKUBE_USER_ACCESS_TOKEN\")\n",
    "client = kfp.Client(existing_token=existing_token)"
   ]
  },
  {
   "cell_type": "markdown",
   "metadata": {},
   "source": [
    "# Input and output parameters for the pipeline run"
   ]
  },
  {
   "cell_type": "code",
   "execution_count": null,
   "metadata": {},
   "outputs": [],
   "source": [
    "project_id = \"ynli7c\"\n",
    "image = \"docker.io/ocdr/dkube-datascience-tf-cpu:fs-v2.0.0\"\n",
    "ptrain_dataset = 'titanic-train'\n",
    "ptest_dataset = 'titanic-test'\n",
    "dataset_mount_points = [\"/opt/dkube/input/train\", \"/opt/dkube/input/test\"]\n",
    "train_fs = 'titanic-train-fs'\n",
    "test_fs = 'titanic-test-fs'\n",
    "output_featureset_mount_points = [\"/opt/dkube/output/train\", \"/opt/dkube/output/test\"]\n",
    "training_program = 'titanic'\n",
    "preprocessing_script = f\"python preprocessing.py --train_fs {train_fs} --test_fs {test_fs}\"\n",
    "training_script = \"python training.py\"\n",
    "train_inp_mount_points = [\"/titanic-train\",\"/titanic-test\"]\n",
    "train_out_mount_points = [\"/model\"]\n",
    "model = 'titanic'\n",
    "user = os.getenv('USERNAME')"
   ]
  },
  {
   "cell_type": "markdown",
   "metadata": {},
   "source": [
    "# Loading components"
   ]
  },
  {
   "cell_type": "code",
   "execution_count": null,
   "metadata": {},
   "outputs": [],
   "source": [
    "components_url = \"https://raw.githubusercontent.com/oneconvergence/dkube/master/components/\"\n",
    "dkube_preprocessing_op = kfp.components.load_component_from_url(components_url + \"preprocess/component.yaml\")\n",
    "dkube_training_op = kfp.components.load_component_from_url(components_url + \"training/component.yaml\")\n",
    "dkube_storage_op  = kfp.components.load_component_from_url(components_url + \"storage/component.yaml\")\n",
    "dkube_submit_op = kfp.components.load_component_from_url(components_url + \"submit/component.yaml\")\n",
    "runid = 0"
   ]
  },
  {
   "cell_type": "markdown",
   "metadata": {},
   "source": [
    "# Pipeline Definition"
   ]
  },
  {
   "cell_type": "code",
   "execution_count": null,
   "metadata": {},
   "outputs": [],
   "source": [
    "@kfp.dsl.pipeline(\n",
    "    name='dkube-titanic-pl',\n",
    "    description='example titanic pipeline to submit to leaderboard'\n",
    ")\n",
    "def titanic_pipeline(token, project_id):\n",
    "\n",
    "    preprocessing = dkube_preprocessing_op(token, json.dumps({\"image\": image}),\n",
    "                                           program=training_program, run_script=preprocessing_script,\n",
    "                                           datasets=json.dumps([ptrain_dataset, ptest_dataset]), \n",
    "                                           output_featuresets=json.dumps([train_fs, test_fs]),\n",
    "                                           input_dataset_mounts=json.dumps(dataset_mount_points), \n",
    "                                           output_featureset_mounts=json.dumps(output_featureset_mount_points)\n",
    "                                            )\n",
    "\n",
    "    with kfp.dsl.ExitHandler(exit_op=dkube_storage_op(\"reclaim\", token, namespace=\"kubeflow\",uid=\"{{workflow.uid}}\")):\n",
    "        input_volumes = json.dumps([\"{{workflow.uid}}-dataset@dataset://\" + user + \":\" + ptest_dataset,\n",
    "                                    \"{{workflow.uid}}-model@model://\" + model,\n",
    "                                    \"{{workflow.uid}}-code@program://\" + training_program\n",
    "                                    ])\n",
    "        train       = dkube_training_op(token, json.dumps({\"image\": image}),\n",
    "                                    framework=\"sklearn\", version=\"0.23.2\",\n",
    "                                    program=training_program, run_script=training_script,\n",
    "                                    featuresets=json.dumps([train_fs, test_fs]), outputs=json.dumps([model]),\n",
    "                                    input_featureset_mounts=json.dumps(train_inp_mount_points),\n",
    "                                    output_mounts=json.dumps(train_out_mount_points)).after(preprocessing)\n",
    "        storage  = dkube_storage_op(\"export\", token, namespace=\"kubeflow\", input_volumes=input_volumes).after(train)\n",
    "\n",
    "    \n",
    "        predict_op = kfp.dsl.ContainerOp(\n",
    "            name=\"predict\",\n",
    "            image=image,\n",
    "            command=[\"python\", \"/code/predict.py\"],\n",
    "            pvolumes={\"/titanic-test/\": kfp.dsl.PipelineVolume(pvc=\"{{workflow.uid}}-dataset\"),\n",
    "                     \"/model/\": kfp.dsl.PipelineVolume(pvc=\"{{workflow.uid}}-model\"),\n",
    "                     \"/code/\": kfp.dsl.PipelineVolume(pvc=\"{{workflow.uid}}-code\")\n",
    "                     },\n",
    "            file_outputs={\"output\": \"/tmp/prediction.csv\"},\n",
    "        ).after(storage)\n",
    "\n",
    "        predictions = kfp.dsl.InputArgumentPath(predict_op.outputs[\"output\"])\n",
    "\n",
    "        submit = dkube_submit_op(token, project_id, predictions=predict_op.outputs[\"output\"]).after(predict_op)"
   ]
  },
  {
   "cell_type": "markdown",
   "metadata": {},
   "source": [
    "# Compling pipeline into tar file"
   ]
  },
  {
   "cell_type": "code",
   "execution_count": null,
   "metadata": {},
   "outputs": [],
   "source": [
    "pl_file_name = 'train_pl.tar.gz'\n",
    "pl_name = '[titanic] pipeline demo full'\n",
    "compiler.Compiler().compile(titanic_pipeline, pl_file_name)\n",
    "# Upload this generated tarball into the Pipelines UI"
   ]
  },
  {
   "cell_type": "markdown",
   "metadata": {},
   "source": [
    "# Uploading Pipeline"
   ]
  },
  {
   "cell_type": "code",
   "execution_count": null,
   "metadata": {},
   "outputs": [],
   "source": [
    "client = kfp.Client(existing_token=existing_token)\n",
    "try:\n",
    "  client.upload_pipeline(pipeline_package_path = pl_file_name, pipeline_name = pl_name, description = None)\n",
    "except BaseException as e:\n",
    "    print(e)"
   ]
  },
  {
   "cell_type": "markdown",
   "metadata": {},
   "source": [
    "# Creating experiment"
   ]
  },
  {
   "cell_type": "code",
   "execution_count": null,
   "metadata": {},
   "outputs": [],
   "source": [
    "try:\n",
    "    titanic_experiment = client.create_experiment(name='[titanic] experiment')\n",
    "except BaseException as e:\n",
    "    print(e)"
   ]
  },
  {
   "cell_type": "markdown",
   "metadata": {},
   "source": [
    "# Creating run from pipeline under the titanic experiment"
   ]
  },
  {
   "cell_type": "code",
   "execution_count": null,
   "metadata": {},
   "outputs": [],
   "source": [
    "try:\n",
    "    pipeline_id = client.get_pipeline_id(pl_name)\n",
    "    run = client.run_pipeline(titanic_experiment.id, \"[titanic] Run\" + str(runid), None, pipeline_id=pipeline_id,\n",
    "                              params={\"token\":existing_token, \"project_id\":project_id})\n",
    "except BaseException as e:\n",
    "    print(e)\n",
    "runid += 1"
   ]
  },
  {
   "cell_type": "code",
   "execution_count": null,
   "metadata": {},
   "outputs": [],
   "source": [
    "# client = kfp.Client(existing_token=existing_token)\n",
    "# #Replace [titanic] & wprz8s with your project name and id respectively.\n",
    "# client.create_run_from_pipeline_func(titanic_pipeline, run_name=\"[titanic] Run\" + str(runid), arguments={\"token\":existing_token,\"project_id\":\"ynli7c\"}, experiment_name = titanic_experiment.name)\n",
    "# runid += 1"
   ]
  },
  {
   "cell_type": "code",
   "execution_count": null,
   "metadata": {},
   "outputs": [],
   "source": []
  }
 ],
 "metadata": {
  "kernelspec": {
   "display_name": "Python 3",
   "language": "python",
   "name": "python3"
  },
  "language_info": {
   "codemirror_mode": {
    "name": "ipython",
    "version": 3
   },
   "file_extension": ".py",
   "mimetype": "text/x-python",
   "name": "python",
   "nbconvert_exporter": "python",
   "pygments_lexer": "ipython3",
   "version": "3.6.8"
  }
 },
 "nbformat": 4,
 "nbformat_minor": 4
}
